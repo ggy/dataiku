{
 "metadata": {
  "name": "",
  "signature": "sha256:4888c5f6ebc21434aefbd015a156c6880d7e9a2b90ae7b0816b50c2ae701880f"
 },
 "nbformat": 3,
 "nbformat_minor": 0,
 "worksheets": [
  {
   "cells": [
    {
     "cell_type": "code",
     "collapsed": false,
     "input": [
      "import csv\n",
      "import pandas as pd\n",
      "import matplotlib.pyplot as plt\n",
      "import matplotlib\n",
      "%matplotlib inline\n",
      "import numpy as np\n",
      "from sklearn.decomposition import FactorAnalysis\n",
      "from sklearn.decomposition import PCA"
     ],
     "language": "python",
     "metadata": {},
     "outputs": [],
     "prompt_number": 7
    },
    {
     "cell_type": "code",
     "collapsed": false,
     "input": [
      "rr = pd.DataFrame.from_csv('./us_census_full/census_income_learn.csv', header=None, sep=',', index_col=None, parse_dates=False)"
     ],
     "language": "python",
     "metadata": {},
     "outputs": [],
     "prompt_number": 2
    },
    {
     "cell_type": "code",
     "collapsed": false,
     "input": [
      "def compute_scores(X):\n",
      "    pca = PCA()\n",
      "    fa = FactorAnalysis()\n",
      "\n",
      "    pca_scores, fa_scores = [], []\n",
      "    for n in n_components:\n",
      "        pca.n_components = n\n",
      "        fa.n_components = n\n",
      "        pca_scores.append(np.mean(cross_val_score(pca, X)))\n",
      "        fa_scores.append(np.mean(cross_val_score(fa, X)))\n",
      "\n",
      "    return pca_scores, fa_scores"
     ],
     "language": "python",
     "metadata": {},
     "outputs": [],
     "prompt_number": 12
    },
    {
     "cell_type": "code",
     "collapsed": false,
     "input": [
      "compute_scores(rr)"
     ],
     "language": "python",
     "metadata": {},
     "outputs": [
      {
       "ename": "NameError",
       "evalue": "global name 'n_components' is not defined",
       "output_type": "pyerr",
       "traceback": [
        "\u001b[0;31m---------------------------------------------------------------------------\u001b[0m\n\u001b[0;31mNameError\u001b[0m                                 Traceback (most recent call last)",
        "\u001b[0;32m<ipython-input-14-be947a232d7c>\u001b[0m in \u001b[0;36m<module>\u001b[0;34m()\u001b[0m\n\u001b[0;32m----> 1\u001b[0;31m \u001b[0mcompute_scores\u001b[0m\u001b[0;34m(\u001b[0m\u001b[0mrr\u001b[0m\u001b[0;34m)\u001b[0m\u001b[0;34m\u001b[0m\u001b[0m\n\u001b[0m",
        "\u001b[0;32m<ipython-input-12-abacf5bc13a0>\u001b[0m in \u001b[0;36mcompute_scores\u001b[0;34m(X)\u001b[0m\n\u001b[1;32m      4\u001b[0m \u001b[0;34m\u001b[0m\u001b[0m\n\u001b[1;32m      5\u001b[0m     \u001b[0mpca_scores\u001b[0m\u001b[0;34m,\u001b[0m \u001b[0mfa_scores\u001b[0m \u001b[0;34m=\u001b[0m \u001b[0;34m[\u001b[0m\u001b[0;34m]\u001b[0m\u001b[0;34m,\u001b[0m \u001b[0;34m[\u001b[0m\u001b[0;34m]\u001b[0m\u001b[0;34m\u001b[0m\u001b[0m\n\u001b[0;32m----> 6\u001b[0;31m     \u001b[0;32mfor\u001b[0m \u001b[0mn\u001b[0m \u001b[0;32min\u001b[0m \u001b[0mn_components\u001b[0m\u001b[0;34m:\u001b[0m\u001b[0;34m\u001b[0m\u001b[0m\n\u001b[0m\u001b[1;32m      7\u001b[0m         \u001b[0mpca\u001b[0m\u001b[0;34m.\u001b[0m\u001b[0mn_components\u001b[0m \u001b[0;34m=\u001b[0m \u001b[0mn\u001b[0m\u001b[0;34m\u001b[0m\u001b[0m\n\u001b[1;32m      8\u001b[0m         \u001b[0mfa\u001b[0m\u001b[0;34m.\u001b[0m\u001b[0mn_components\u001b[0m \u001b[0;34m=\u001b[0m \u001b[0mn\u001b[0m\u001b[0;34m\u001b[0m\u001b[0m\n",
        "\u001b[0;31mNameError\u001b[0m: global name 'n_components' is not defined"
       ]
      }
     ],
     "prompt_number": 14
    },
    {
     "cell_type": "code",
     "collapsed": false,
     "input": [
      "n_components_pca = n_components[np.argmax(pca_scores)]\n",
      "n_components_fa = n_components[np.argmax(fa_scores)]\n",
      "\n",
      "plt.figure()\n",
      "plt.plot(n_components, pca_scores, 'b', label='PCA scores')\n",
      "plt.plot(n_components, fa_scores, 'r', label='FA scores')\n",
      "plt.axvline(rank, color='g', label='TRUTH: %d' % rank, linestyle='-')\n",
      "plt.axvline(n_components_pca, color='b',\n",
      "                label='PCA CV: %d' % n_components_pca, linestyle='--')\n",
      "plt.axvline(n_components_fa, color='r',\n",
      "                label='FactorAnalysis CV: %d' % n_components_fa, linestyle='--')\n",
      "plt.axvline(n_components_pca_mle, color='k',\n",
      "                label='PCA MLE: %d' % n_components_pca_mle, linestyle='--')"
     ],
     "language": "python",
     "metadata": {},
     "outputs": []
    }
   ],
   "metadata": {}
  }
 ]
}