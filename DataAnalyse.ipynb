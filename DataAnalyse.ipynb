{
 "metadata": {
  "name": "",
  "signature": "sha256:44ea1e637758be1c383e7c12e106fdea98395a5cb6cb36c92a590b0007d5c606"
 },
 "nbformat": 3,
 "nbformat_minor": 0,
 "worksheets": [
  {
   "cells": [
    {
     "cell_type": "code",
     "collapsed": false,
     "input": [
      "import csv\n",
      "import pandas as pd\n",
      "import matplotlib.pyplot as plt\n",
      "import matplotlib\n",
      "%matplotlib inline\n",
      "import numpy as np\n",
      "from sklearn.decomposition import FactorAnalysis"
     ],
     "language": "python",
     "metadata": {},
     "outputs": [],
     "prompt_number": 1
    },
    {
     "cell_type": "code",
     "collapsed": false,
     "input": [
      "rr = pd.DataFrame.from_csv('./us_census_full/census_income_learn.csv', header=None, sep=',', index_col=None, parse_dates=False)"
     ],
     "language": "python",
     "metadata": {},
     "outputs": [],
     "prompt_number": 2
    },
    {
     "cell_type": "code",
     "collapsed": false,
     "input": [],
     "language": "python",
     "metadata": {},
     "outputs": []
    }
   ],
   "metadata": {}
  }
 ]
}