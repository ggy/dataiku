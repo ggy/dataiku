{
 "metadata": {
  "name": "",
  "signature": "sha256:9c3740e1dfadd34404bbf518e8eba7bd436caaaf50be80deb9d19cc1f38187a2"
 },
 "nbformat": 3,
 "nbformat_minor": 0,
 "worksheets": [
  {
   "cells": [
    {
     "cell_type": "code",
     "collapsed": false,
     "input": [
      "import csv\n",
      "import pandas as pd\n",
      "import matplotlib.pyplot as plt\n",
      "import matplotlib\n",
      "%matplotlib inline\n",
      "import numpy as np"
     ],
     "language": "python",
     "metadata": {},
     "outputs": [],
     "prompt_number": 1
    },
    {
     "cell_type": "code",
     "collapsed": false,
     "input": [
      "import Orange\n",
      "data = Orange.data.Table(\"./us_census_full/census_income_learn.csv\")"
     ],
     "language": "python",
     "metadata": {},
     "outputs": [],
     "prompt_number": 2
    },
    {
     "cell_type": "code",
     "collapsed": false,
     "input": [
      "data"
     ],
     "language": "python",
     "metadata": {},
     "outputs": [
      {
       "metadata": {},
       "output_type": "pyout",
       "prompt_number": 3,
       "text": [
        "Orange.data.Table 'table'"
       ]
      }
     ],
     "prompt_number": 3
    },
    {
     "cell_type": "code",
     "collapsed": false,
     "input": [
      "data[:3]"
     ],
     "language": "python",
     "metadata": {},
     "outputs": [
      {
       "metadata": {},
       "output_type": "pyout",
       "prompt_number": 4,
       "text": [
        "[[58, 'Self-employed-not incorporated', 4, 34, 'Some college but no degree', 0, 'Not in universe', 'Divorced', 'Construction', 'Precision production craft & repair', 'White', 'All other', 'Male', 'Not in universe', 'Not in universe', 'Children or Armed Forces', 0, 0, 0, 'Head of household', 'South', 'Arkansas', 'Householder', 'Householder', 1053.55, 'MSA to MSA', 'Same county', 'Same county', 'No', 'Yes', '1', 'Not in universe', 'United-States', 'United-States', 'United-States', 'Native- Born in the United States', '0', 'Not in universe', '2', 52, 94, '- 50000.'],\n",
        " [18, 'Not in universe', 0, 0, '10th grade', 0, 'High school', 'Never married', 'Not in universe or children', 'Not in universe', 'Asian or Pacific Islander', 'All other', 'Female', 'Not in universe', 'Not in universe', 'Not in labor force', 0, 0, 0, 'Nonfiler', 'Not in universe', 'Not in universe', 'Child 18+ never marr Not in a subfamily', 'Child 18 or older', 991.95, '?', '?', '?', 'Not in universe under 1 year old', '?', '0', 'Not in universe', 'Vietnam', 'Vietnam', 'Vietnam', 'Foreign born- Not a citizen of U S', '0', 'Not in universe', '2', 0, 95, '- 50000.'],\n",
        " [9, 'Not in universe', 0, 0, 'Children', 0, 'Not in universe', 'Never married', 'Not in universe or children', 'Not in universe', 'White', 'All other', 'Female', 'Not in universe', 'Not in universe', 'Children or Armed Forces', 0, 0, 0, 'Nonfiler', 'Not in universe', 'Not in universe', 'Child <18 never marr not in subfamily', 'Child under 18 never married', 1758.14, 'Nonmover', 'Nonmover', 'Nonmover', 'Yes', 'Not in universe', '0', 'Both parents present', 'United-States', 'United-States', 'United-States', 'Native- Born in the United States', '0', 'Not in universe', '0', 0, 94, '- 50000.']]"
       ]
      }
     ],
     "prompt_number": 4
    },
    {
     "cell_type": "code",
     "collapsed": false,
     "input": [
      "print data[0]"
     ],
     "language": "python",
     "metadata": {},
     "outputs": [
      {
       "output_type": "stream",
       "stream": "stdout",
       "text": [
        "[58, 'Self-employed-not incorporated', 4, 34, 'Some college but no degree', 0, 'Not in universe', 'Divorced', 'Construction', 'Precision production craft & repair', 'White', 'All other', 'Male', 'Not in universe', 'Not in universe', 'Children or Armed Forces', 0, 0, 0, 'Head of household', 'South', 'Arkansas', 'Householder', 'Householder', 1053.55, 'MSA to MSA', 'Same county', 'Same county', 'No', 'Yes', '1', 'Not in universe', 'United-States', 'United-States', 'United-States', 'Native- Born in the United States', '0', 'Not in universe', '2', 52, 94, '- 50000.']\n"
       ]
      }
     ],
     "prompt_number": 5
    },
    {
     "cell_type": "code",
     "collapsed": false,
     "input": [
      "lr = Orange.classification.logreg.LogRegLearner(data)\n",
      "print Orange.classification.logreg.dump(lr)\n",
      "\n",
      "tree = Orange.classification.tree.TreeLearner(data)\n",
      "print tree.to_string()"
     ],
     "language": "python",
     "metadata": {},
     "outputs": []
    },
    {
     "cell_type": "code",
     "collapsed": false,
     "input": [],
     "language": "python",
     "metadata": {},
     "outputs": []
    }
   ],
   "metadata": {}
  }
 ]
}