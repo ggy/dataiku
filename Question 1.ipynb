{
 "metadata": {
  "name": "Question 1"
 },
 "nbformat": 3,
 "nbformat_minor": 0,
 "worksheets": [
  {
   "cells": [
    {
     "cell_type": "code",
     "collapsed": false,
     "input": [
      "import csv\n",
      "import pandas as pd\n",
      "import matplotlib.pyplot as plt\n",
      "import matplotlib"
     ],
     "language": "python",
     "metadata": {},
     "outputs": [],
     "prompt_number": 57
    },
    {
     "cell_type": "code",
     "collapsed": false,
     "input": [
      "r = pd.read_csv('./census_income_learn.csv', sep=',', parse_dates=[0], header=None,\n",
      "                         names= ['AAGE','ACLSWKR','ADTIND','ADTOCC','AGI','AHGA','AHRSPAY','AHSCOL','AMARITL',\n",
      "                                    'AMJIND','AMJOCC','ARACE','AREORGN','ASEX','AUNMEM','AUNTYPE','AWKSTAT',\n",
      "                                    'CAPGAIN','CAPLOSS','DIVVAL','FEDTAX','FILESTAT','GRINREG','GRINST',\n",
      "                                    'HHDFMX','HHDREL','MARSUPWT','MIGMTR1','MIGMTR3','MIGMTR4','MIGSAME',\n",
      "                                    'MIGSUN','NOEMP','PARENT','PEARNVAL','PEFNTVTY','PEMNTVTY','PENATVTY',\n",
      "                                    'PRCITSHP','PTOTVAL','SEOTR','TAXINC','VETQVA','VETYN','WKSWORK'])"
     ],
     "language": "python",
     "metadata": {},
     "outputs": [],
     "prompt_number": 47
    },
    {
     "cell_type": "code",
     "collapsed": false,
     "input": [
      "r.columns"
     ],
     "language": "python",
     "metadata": {},
     "outputs": [
      {
       "output_type": "pyout",
       "prompt_number": 38,
       "text": [
        "Index([u'AAGE', u'ACLSWKR', u'ADTIND', u'ADTOCC', u'AGI', u'AHGA', u'AHRSPAY', u'AHSCOL', u'AMARITL', u'AMJIND', u'AMJOCC', u'ARACE', u'AREORGN', u'ASEX', u'AUNMEM', u'AUNTYPE', u'AWKSTAT', u'CAPGAIN', u'CAPLOSS', u'DIVVAL', u'FEDTAX', u'FILESTAT', u'GRINREG', u'GRINST', u'HHDFMX', u'HHDREL', u'MARSUPWT', u'MIGMTR1', u'MIGMTR3', u'MIGMTR4', u'MIGSAME', u'MIGSUN', u'NOEMP', u'PARENT', u'PEARNVAL', u'PEFNTVTY', u'PEMNTVTY', u'PENATVTY', u'PRCITSHP', u'PTOTVAL', u'SEOTR', u'TAXINC', u'VETQVA', u'VETYN', u'WKSWORK'], dtype='object')"
       ]
      }
     ],
     "prompt_number": 38
    },
    {
     "cell_type": "code",
     "collapsed": false,
     "input": [
      "matplotlib.style.use('ggplot')"
     ],
     "language": "python",
     "metadata": {},
     "outputs": [],
     "prompt_number": 58
    },
    {
     "cell_type": "code",
     "collapsed": false,
     "input": [
      "plt.figure();\n",
      "r.AAGE.convert_objects(convert_numeric=True)"
     ],
     "language": "python",
     "metadata": {},
     "outputs": [
      {
       "output_type": "pyout",
       "prompt_number": 59,
       "text": [
        "0     73\n",
        "1     58\n",
        "2     18\n",
        "3      9\n",
        "4     10\n",
        "5     48\n",
        "6     42\n",
        "7     28\n",
        "8     47\n",
        "9     34\n",
        "10     8\n",
        "11    32\n",
        "12    51\n",
        "13    46\n",
        "14    26\n",
        "...\n",
        "199508    62\n",
        "199509    47\n",
        "199510    25\n",
        "199511    47\n",
        "199512    71\n",
        "199513    57\n",
        "199514    51\n",
        "199515    87\n",
        "199516     3\n",
        "199517    39\n",
        "199518    87\n",
        "199519    65\n",
        "199520    47\n",
        "199521    16\n",
        "199522    32\n",
        "Name: AAGE, Length: 199523, dtype: int64"
       ]
      }
     ],
     "prompt_number": 59
    },
    {
     "cell_type": "code",
     "collapsed": false,
     "input": [
      "plt.plot(r.AAGE)\n",
      "plt.show()"
     ],
     "language": "python",
     "metadata": {},
     "outputs": [],
     "prompt_number": 60
    },
    {
     "cell_type": "code",
     "collapsed": false,
     "input": [
      "%matplotlib"
     ],
     "language": "python",
     "metadata": {},
     "outputs": [
      {
       "output_type": "stream",
       "stream": "stderr",
       "text": [
        "ERROR: Line magic function `%matplotlib` not found."
       ]
      }
     ],
     "prompt_number": 61
    },
    {
     "cell_type": "code",
     "collapsed": false,
     "input": [
      "from pylab import *\n",
      "x = linspace(0, 5, 10)\n",
      "y = x ** 2\n",
      "figure()\n",
      "plot(x, y, 'r')\n",
      "xlabel('x')\n",
      "ylabel('y')\n",
      "title('title')\n",
      "show()"
     ],
     "language": "python",
     "metadata": {},
     "outputs": [],
     "prompt_number": 62
    },
    {
     "cell_type": "code",
     "collapsed": false,
     "input": [],
     "language": "python",
     "metadata": {},
     "outputs": []
    }
   ],
   "metadata": {}
  }
 ]
}